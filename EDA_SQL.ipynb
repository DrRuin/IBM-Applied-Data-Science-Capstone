{
 "cells": [
  {
   "cell_type": "markdown",
   "id": "0ca133bc-0d6f-43bc-bb5f-1bcddc17da16",
   "metadata": {},
   "outputs": [],
   "source": [
    "<p style=\"text-align:center\">\n",
    "    <a href=\"https://skills.network/?utm_medium=Exinfluencer&utm_source=Exinfluencer&utm_content=000026UJ&utm_term=10006555&utm_id=NA-SkillsNetwork-Channel-SkillsNetworkCoursesIBMDS0321ENSkillsNetwork865-2023-01-01\">\n",
    "    <img src=\"https://cf-courses-data.s3.us.cloud-object-storage.appdomain.cloud/assets/logos/SN_web_lightmode.png\" width=\"200\" alt=\"Skills Network Logo\"  />\n",
    "    </a>\n",
    "</p>\n",
    "\n",
    "<h1 align=center><font size = 5>Assignment: SQL Notebook for Peer Assignment</font></h1>\n",
    "\n",
    "Estimated time needed: **60** minutes.\n",
    "\n",
    "## Introduction\n",
    "Using this Python notebook you will:\n",
    "\n",
    "1.  Understand the Spacex DataSet\n",
    "2.  Load the dataset  into the corresponding table in a Db2 database\n",
    "3.  Execute SQL queries to answer assignment questions \n"
   ]
  },
  {
   "cell_type": "markdown",
   "id": "92c2fd8a-76d5-4f16-b7cc-d6d87e6928e9",
   "metadata": {},
   "outputs": [],
   "source": [
    "## Overview of the DataSet\n",
    "\n",
    "SpaceX has gained worldwide attention for a series of historic milestones. \n",
    "\n",
    "It is the only private company ever to return a spacecraft from low-earth orbit, which it first accomplished in December 2010.\n",
    "SpaceX advertises Falcon 9 rocket launches on its website with a cost of 62 million dollars wheras other providers cost upward of 165 million dollars each, much of the savings is because Space X can reuse the first stage. \n",
    "\n",
    "\n",
    "Therefore if we can determine if the first stage will land, we can determine the cost of a launch. \n",
    "\n",
    "This information can be used if an alternate company wants to bid against SpaceX for a rocket launch.\n",
    "\n",
    "This dataset includes a record for each payload carried during a SpaceX mission into outer space.\n"
   ]
  },
  {
   "cell_type": "markdown",
   "id": "6b45162c-e31f-4d0a-8479-776f2134b498",
   "metadata": {},
   "outputs": [],
   "source": [
    "### Download the datasets\n",
    "\n",
    "This assignment requires you to load the spacex dataset.\n",
    "\n",
    "In many cases the dataset to be analyzed is available as a .CSV (comma separated values) file, perhaps on the internet. Click on the link below to download and save the dataset (.CSV file):\n",
    "\n",
    " <a href=\"https://cf-courses-data.s3.us.cloud-object-storage.appdomain.cloud/IBM-DS0321EN-SkillsNetwork/labs/module_2/data/Spacex.csv\" target=\"_blank\">Spacex DataSet</a>\n",
    "\n"
   ]
  },
  {
   "cell_type": "markdown",
   "id": "5751c8ee-9291-410e-be25-d50d72e781e0",
   "metadata": {},
   "outputs": [],
   "source": [
    "### Connect to the database\n",
    "\n",
    "Let us first load the SQL extension and establish a connection with the database\n"
   ]
  },
  {
   "cell_type": "code",
   "id": "a4212cf5-7fbb-42d1-98b1-89b995918d34",
   "metadata": {
    "ExecuteTime": {
     "end_time": "2023-06-24T04:58:59.559628900Z",
     "start_time": "2023-06-24T04:58:58.162553200Z"
    }
   },
   "outputs": [],
   "source": [
    "%load_ext sql"
   ],
   "execution_count": 6
  },
  {
   "cell_type": "code",
   "id": "43997a1f-0838-44cc-bd62-9a1ce91d3639",
   "metadata": {
    "ExecuteTime": {
     "end_time": "2023-06-24T05:02:39.311264100Z",
     "start_time": "2023-06-24T05:02:39.288268600Z"
    }
   },
   "outputs": [],
   "source": [
    "import csv, sqlite3\n",
    "\n",
    "con = sqlite3.connect(\"my_data1.db\")\n",
    "cur = con.cursor()"
   ],
   "execution_count": 7
  },
  {
   "cell_type": "code",
   "id": "52e125f7-902c-440a-af54-1ca71a4dab33",
   "metadata": {
    "ExecuteTime": {
     "end_time": "2023-06-24T05:02:46.627764200Z",
     "start_time": "2023-06-24T05:02:46.578770900Z"
    }
   },
   "outputs": [
    {
     "data": {
      "text/plain": "'Connected: @my_data1.db'"
     },
     "execution_count": 8,
     "metadata": {},
     "output_type": "execute_result"
    }
   ],
   "source": [
    "%sql sqlite:///my_data1.db"
   ],
   "execution_count": 8
  },
  {
   "cell_type": "code",
   "id": "711b8b7b-be15-41ff-a7e5-7fec0b66c8c1",
   "metadata": {
    "ExecuteTime": {
     "end_time": "2023-06-24T05:02:54.890400200Z",
     "start_time": "2023-06-24T05:02:52.984695100Z"
    }
   },
   "outputs": [
    {
     "data": {
      "text/plain": "999"
     },
     "execution_count": 9,
     "metadata": {},
     "output_type": "execute_result"
    }
   ],
   "source": [
    "import pandas as pd\n",
    "df = pd.read_csv(\"https://cf-courses-data.s3.us.cloud-object-storage.appdomain.cloud/IBM-DS0321EN-SkillsNetwork/labs/module_2/data/Spacex.csv\")\n",
    "df.to_sql(\"SPACEXTBL\", con, if_exists='replace', index=False,method=\"multi\")"
   ],
   "execution_count": 9
  },
  {
   "cell_type": "markdown",
   "id": "be68ba98-f1bd-4179-91ef-1a961feb9092",
   "metadata": {},
   "outputs": [],
   "source": [
    "## Tasks\n",
    "\n",
    "Now write and execute SQL queries to solve the assignment tasks.\n",
    "\n",
    "**Note: If the column names are in mixed case enclose it in double quotes\n",
    "   For Example \"Landing_Outcome\"**\n",
    "\n",
    "### Task 1\n",
    "\n",
    "\n",
    "\n",
    "\n",
    "##### Display the names of the unique launch sites  in the space mission\n"
   ]
  },
  {
   "cell_type": "code",
   "id": "e0f8f6b6-fa9b-4e78-8715-ec767ed76fdb",
   "metadata": {
    "ExecuteTime": {
     "end_time": "2023-06-24T05:07:46.511863300Z",
     "start_time": "2023-06-24T05:07:46.487360100Z"
    }
   },
   "outputs": [
    {
     "name": "stdout",
     "output_type": "stream",
     "text": [
      " * sqlite:///my_data1.db\n",
      "Done.\n"
     ]
    },
    {
     "data": {
      "text/plain": "[('CCAFS LC-40',),\n ('VAFB SLC-4E',),\n ('KSC LC-39A',),\n ('CCAFS SLC-40',),\n (None,)]",
      "text/html": "<table>\n    <thead>\n        <tr>\n            <th>Launch_Site</th>\n        </tr>\n    </thead>\n    <tbody>\n        <tr>\n            <td>CCAFS LC-40</td>\n        </tr>\n        <tr>\n            <td>VAFB SLC-4E</td>\n        </tr>\n        <tr>\n            <td>KSC LC-39A</td>\n        </tr>\n        <tr>\n            <td>CCAFS SLC-40</td>\n        </tr>\n        <tr>\n            <td>None</td>\n        </tr>\n    </tbody>\n</table>"
     },
     "execution_count": 10,
     "metadata": {},
     "output_type": "execute_result"
    }
   ],
   "source": [
    "%sql select distinct LAUNCH_SITE from SPACEXTBL"
   ],
   "execution_count": 10
  },
  {
   "cell_type": "markdown",
   "id": "f6fb7c8d-dd5e-470e-b464-7516ba250466",
   "metadata": {},
   "outputs": [],
   "source": [
    "\n",
    "### Task 2\n",
    "\n",
    "\n",
    "#####  Display 5 records where launch sites begin with the string 'CCA' \n"
   ]
  },
  {
   "cell_type": "code",
   "id": "6c7ee27a-0f5a-479b-bb6d-a46f75bc28cd",
   "metadata": {
    "ExecuteTime": {
     "end_time": "2023-06-24T05:32:42.470126600Z",
     "start_time": "2023-06-24T05:32:42.411110Z"
    }
   },
   "outputs": [
    {
     "name": "stdout",
     "output_type": "stream",
     "text": [
      " * sqlite:///my_data1.db\n",
      "Done.\n"
     ]
    },
    {
     "data": {
      "text/plain": "[('06/04/2010', '18:45:00', 'F9 v1.0  B0003', 'CCAFS LC-40', 'Dragon Spacecraft Qualification Unit', 0.0, 'LEO', 'SpaceX', 'Success', 'Failure (parachute)'),\n ('12/08/2010', '15:43:00', 'F9 v1.0  B0004', 'CCAFS LC-40', 'Dragon demo flight C1, two CubeSats, barrel of Brouere cheese', 0.0, 'LEO (ISS)', 'NASA (COTS) NRO', 'Success', 'Failure (parachute)'),\n ('22/05/2012', '7:44:00', 'F9 v1.0  B0005', 'CCAFS LC-40', 'Dragon demo flight C2', 525.0, 'LEO (ISS)', 'NASA (COTS)', 'Success', 'No attempt'),\n ('10/08/2012', '0:35:00', 'F9 v1.0  B0006', 'CCAFS LC-40', 'SpaceX CRS-1', 500.0, 'LEO (ISS)', 'NASA (CRS)', 'Success', 'No attempt'),\n ('03/01/2013', '15:10:00', 'F9 v1.0  B0007', 'CCAFS LC-40', 'SpaceX CRS-2', 677.0, 'LEO (ISS)', 'NASA (CRS)', 'Success', 'No attempt')]",
      "text/html": "<table>\n    <thead>\n        <tr>\n            <th>Date</th>\n            <th>Time (UTC)</th>\n            <th>Booster_Version</th>\n            <th>Launch_Site</th>\n            <th>Payload</th>\n            <th>PAYLOAD_MASS__KG_</th>\n            <th>Orbit</th>\n            <th>Customer</th>\n            <th>Mission_Outcome</th>\n            <th>Landing_Outcome</th>\n        </tr>\n    </thead>\n    <tbody>\n        <tr>\n            <td>06/04/2010</td>\n            <td>18:45:00</td>\n            <td>F9 v1.0  B0003</td>\n            <td>CCAFS LC-40</td>\n            <td>Dragon Spacecraft Qualification Unit</td>\n            <td>0.0</td>\n            <td>LEO</td>\n            <td>SpaceX</td>\n            <td>Success</td>\n            <td>Failure (parachute)</td>\n        </tr>\n        <tr>\n            <td>12/08/2010</td>\n            <td>15:43:00</td>\n            <td>F9 v1.0  B0004</td>\n            <td>CCAFS LC-40</td>\n            <td>Dragon demo flight C1, two CubeSats, barrel of Brouere cheese</td>\n            <td>0.0</td>\n            <td>LEO (ISS)</td>\n            <td>NASA (COTS) NRO</td>\n            <td>Success</td>\n            <td>Failure (parachute)</td>\n        </tr>\n        <tr>\n            <td>22/05/2012</td>\n            <td>7:44:00</td>\n            <td>F9 v1.0  B0005</td>\n            <td>CCAFS LC-40</td>\n            <td>Dragon demo flight C2</td>\n            <td>525.0</td>\n            <td>LEO (ISS)</td>\n            <td>NASA (COTS)</td>\n            <td>Success</td>\n            <td>No attempt</td>\n        </tr>\n        <tr>\n            <td>10/08/2012</td>\n            <td>0:35:00</td>\n            <td>F9 v1.0  B0006</td>\n            <td>CCAFS LC-40</td>\n            <td>SpaceX CRS-1</td>\n            <td>500.0</td>\n            <td>LEO (ISS)</td>\n            <td>NASA (CRS)</td>\n            <td>Success</td>\n            <td>No attempt</td>\n        </tr>\n        <tr>\n            <td>03/01/2013</td>\n            <td>15:10:00</td>\n            <td>F9 v1.0  B0007</td>\n            <td>CCAFS LC-40</td>\n            <td>SpaceX CRS-2</td>\n            <td>677.0</td>\n            <td>LEO (ISS)</td>\n            <td>NASA (CRS)</td>\n            <td>Success</td>\n            <td>No attempt</td>\n        </tr>\n    </tbody>\n</table>"
     },
     "execution_count": 13,
     "metadata": {},
     "output_type": "execute_result"
    }
   ],
   "source": [
    "%sql SELECT * FROM SPACEXTBL WHERE Launch_Site LIKE 'CCA%' LIMIT 5"
   ],
   "execution_count": 13
  },
  {
   "cell_type": "markdown",
   "id": "ef25d2a3-4cdd-4260-be13-eed7042720ae",
   "metadata": {},
   "outputs": [],
   "source": [
    "### Task 3\n",
    "\n",
    "\n",
    "\n",
    "\n",
    "##### Display the total payload mass carried by boosters launched by NASA (CRS)\n"
   ]
  },
  {
   "cell_type": "code",
   "id": "a44f81de-43cf-43d7-ac21-6f3446b64160",
   "metadata": {
    "ExecuteTime": {
     "end_time": "2023-06-24T05:33:00.048185800Z",
     "start_time": "2023-06-24T05:32:59.983034800Z"
    }
   },
   "outputs": [
    {
     "name": "stdout",
     "output_type": "stream",
     "text": [
      " * sqlite:///my_data1.db\n",
      "Done.\n"
     ]
    },
    {
     "data": {
      "text/plain": "[(45596.0,)]",
      "text/html": "<table>\n    <thead>\n        <tr>\n            <th>sum(PAYLOAD_MASS__KG_)</th>\n        </tr>\n    </thead>\n    <tbody>\n        <tr>\n            <td>45596.0</td>\n        </tr>\n    </tbody>\n</table>"
     },
     "execution_count": 14,
     "metadata": {},
     "output_type": "execute_result"
    }
   ],
   "source": [
    "%sql select sum(PAYLOAD_MASS__KG_) from SPACEXTBL where CUSTOMER = 'NASA (CRS)'"
   ],
   "execution_count": 14
  },
  {
   "cell_type": "markdown",
   "id": "bff9546a-0749-4292-95eb-6aeb7d298141",
   "metadata": {},
   "outputs": [],
   "source": [
    "### Task 4\n",
    "\n",
    "\n",
    "\n",
    "\n",
    "##### Display average payload mass carried by booster version F9 v1.1\n"
   ]
  },
  {
   "cell_type": "code",
   "id": "b33fc5c5-5cb8-46c5-b171-f6a06435864f",
   "metadata": {
    "ExecuteTime": {
     "end_time": "2023-06-24T05:33:10.033161800Z",
     "start_time": "2023-06-24T05:33:09.969343800Z"
    }
   },
   "outputs": [
    {
     "name": "stdout",
     "output_type": "stream",
     "text": [
      " * sqlite:///my_data1.db\n",
      "Done.\n"
     ]
    },
    {
     "data": {
      "text/plain": "[(2928.4,)]",
      "text/html": "<table>\n    <thead>\n        <tr>\n            <th>avg(PAYLOAD_MASS__KG_)</th>\n        </tr>\n    </thead>\n    <tbody>\n        <tr>\n            <td>2928.4</td>\n        </tr>\n    </tbody>\n</table>"
     },
     "execution_count": 15,
     "metadata": {},
     "output_type": "execute_result"
    }
   ],
   "source": [
    "%sql select avg(PAYLOAD_MASS__KG_) from SPACEXTBL where BOOSTER_VERSION = 'F9 v1.1'"
   ],
   "execution_count": 15
  },
  {
   "cell_type": "markdown",
   "id": "26dcf120-b280-4e73-9791-8b1a1ca1346b",
   "metadata": {},
   "outputs": [],
   "source": [
    "### Task 5\n",
    "\n",
    "##### List the date when the first succesful landing outcome in ground pad was acheived.\n",
    "\n",
    "\n",
    "_Hint:Use min function_ \n"
   ]
  },
  {
   "cell_type": "code",
   "id": "3462067a-d39e-4641-8479-e16a3d792f3c",
   "metadata": {
    "ExecuteTime": {
     "end_time": "2023-06-24T05:36:45.371777600Z",
     "start_time": "2023-06-24T05:36:45.326379200Z"
    }
   },
   "outputs": [
    {
     "name": "stdout",
     "output_type": "stream",
     "text": [
      " * sqlite:///my_data1.db\n",
      "Done.\n"
     ]
    },
    {
     "data": {
      "text/plain": "[('01/08/2018',)]",
      "text/html": "<table>\n    <thead>\n        <tr>\n            <th>FirstSuccessfull_landing_date</th>\n        </tr>\n    </thead>\n    <tbody>\n        <tr>\n            <td>01/08/2018</td>\n        </tr>\n    </tbody>\n</table>"
     },
     "execution_count": 22,
     "metadata": {},
     "output_type": "execute_result"
    }
   ],
   "source": [
    "%sql SELECT MIN(Date) AS FirstSuccessfull_landing_date FROM SPACEXTBL WHERE Landing_Outcome LIKE 'Success (ground pad)'"
   ],
   "execution_count": 22
  },
  {
   "cell_type": "markdown",
   "id": "9d9b8d6c-c1ef-4c97-824f-ea4a316374f3",
   "metadata": {},
   "outputs": [],
   "source": [
    "### Task 6\n",
    "\n",
    "##### List the names of the boosters which have success in drone ship and have payload mass greater than 4000 but less than 6000\n"
   ]
  },
  {
   "cell_type": "code",
   "id": "a3bab44b-2deb-48af-a9db-8da9ddc4ce1c",
   "metadata": {
    "ExecuteTime": {
     "end_time": "2023-06-24T05:39:02.636703500Z",
     "start_time": "2023-06-24T05:39:02.596680700Z"
    }
   },
   "outputs": [
    {
     "name": "stdout",
     "output_type": "stream",
     "text": [
      " * sqlite:///my_data1.db\n",
      "Done.\n"
     ]
    },
    {
     "data": {
      "text/plain": "[('F9 FT B1022',), ('F9 FT B1026',), ('F9 FT  B1021.2',), ('F9 FT  B1031.2',)]",
      "text/html": "<table>\n    <thead>\n        <tr>\n            <th>Booster_Version</th>\n        </tr>\n    </thead>\n    <tbody>\n        <tr>\n            <td>F9 FT B1022</td>\n        </tr>\n        <tr>\n            <td>F9 FT B1026</td>\n        </tr>\n        <tr>\n            <td>F9 FT  B1021.2</td>\n        </tr>\n        <tr>\n            <td>F9 FT  B1031.2</td>\n        </tr>\n    </tbody>\n</table>"
     },
     "execution_count": 26,
     "metadata": {},
     "output_type": "execute_result"
    }
   ],
   "source": [
    "%sql select BOOSTER_VERSION from SPACEXTBL where LANDING_OUTCOME ='Success (drone ship)' and PAYLOAD_MASS__KG_ BETWEEN 4000 AND 6000"
   ],
   "execution_count": 26
  },
  {
   "cell_type": "markdown",
   "id": "2176adc5-60ba-469a-a1db-b1fe18840fc1",
   "metadata": {},
   "outputs": [],
   "source": [
    "### Task 7\n",
    "\n",
    "\n",
    "\n",
    "\n",
    "##### List the total number of successful and failure mission outcomes\n"
   ]
  },
  {
   "cell_type": "code",
   "id": "667a24a3-2df9-4d09-8ac9-0a0dea820ae1",
   "metadata": {
    "ExecuteTime": {
     "end_time": "2023-06-24T05:58:12.412267200Z",
     "start_time": "2023-06-24T05:58:12.381273200Z"
    }
   },
   "outputs": [
    {
     "name": "stdout",
     "output_type": "stream",
     "text": [
      " * sqlite:///my_data1.db\n",
      "Done.\n"
     ]
    },
    {
     "data": {
      "text/plain": "[(None, 0),\n ('Failure (in flight)', 1),\n ('Success', 98),\n ('Success ', 1),\n ('Success (payload status unclear)', 1)]",
      "text/html": "<table>\n    <thead>\n        <tr>\n            <th>Mission_Outcome</th>\n            <th>count</th>\n        </tr>\n    </thead>\n    <tbody>\n        <tr>\n            <td>None</td>\n            <td>0</td>\n        </tr>\n        <tr>\n            <td>Failure (in flight)</td>\n            <td>1</td>\n        </tr>\n        <tr>\n            <td>Success</td>\n            <td>98</td>\n        </tr>\n        <tr>\n            <td>Success </td>\n            <td>1</td>\n        </tr>\n        <tr>\n            <td>Success (payload status unclear)</td>\n            <td>1</td>\n        </tr>\n    </tbody>\n</table>"
     },
     "execution_count": 28,
     "metadata": {},
     "output_type": "execute_result"
    }
   ],
   "source": [
    "%sql Select MISSION_OUTCOME,count(MISSION_OUTCOME) as count from SPACEXTBL GROUP BY MISSION_OUTCOME"
   ],
   "execution_count": 28
  },
  {
   "cell_type": "markdown",
   "id": "98cdeb52-23d5-461c-a141-b1a4ee7bb0b6",
   "metadata": {},
   "outputs": [],
   "source": [
    "### Task 8\n",
    "\n",
    "\n",
    "\n",
    "##### List the   names of the booster_versions which have carried the maximum payload mass. Use a subquery\n"
   ]
  },
  {
   "cell_type": "code",
   "id": "11e86ead-4a7f-4281-a52a-1c28ca5a654e",
   "metadata": {
    "ExecuteTime": {
     "end_time": "2023-06-24T05:58:29.443928900Z",
     "start_time": "2023-06-24T05:58:29.376935600Z"
    }
   },
   "outputs": [
    {
     "name": "stdout",
     "output_type": "stream",
     "text": [
      " * sqlite:///my_data1.db\n",
      "Done.\n"
     ]
    },
    {
     "data": {
      "text/plain": "[('F9 B5 B1048.4',),\n ('F9 B5 B1049.4',),\n ('F9 B5 B1051.3',),\n ('F9 B5 B1056.4',),\n ('F9 B5 B1048.5',),\n ('F9 B5 B1051.4',),\n ('F9 B5 B1049.5',),\n ('F9 B5 B1060.2 ',),\n ('F9 B5 B1058.3 ',),\n ('F9 B5 B1051.6',),\n ('F9 B5 B1060.3',),\n ('F9 B5 B1049.7 ',)]",
      "text/html": "<table>\n    <thead>\n        <tr>\n            <th>Booster_Version</th>\n        </tr>\n    </thead>\n    <tbody>\n        <tr>\n            <td>F9 B5 B1048.4</td>\n        </tr>\n        <tr>\n            <td>F9 B5 B1049.4</td>\n        </tr>\n        <tr>\n            <td>F9 B5 B1051.3</td>\n        </tr>\n        <tr>\n            <td>F9 B5 B1056.4</td>\n        </tr>\n        <tr>\n            <td>F9 B5 B1048.5</td>\n        </tr>\n        <tr>\n            <td>F9 B5 B1051.4</td>\n        </tr>\n        <tr>\n            <td>F9 B5 B1049.5</td>\n        </tr>\n        <tr>\n            <td>F9 B5 B1060.2 </td>\n        </tr>\n        <tr>\n            <td>F9 B5 B1058.3 </td>\n        </tr>\n        <tr>\n            <td>F9 B5 B1051.6</td>\n        </tr>\n        <tr>\n            <td>F9 B5 B1060.3</td>\n        </tr>\n        <tr>\n            <td>F9 B5 B1049.7 </td>\n        </tr>\n    </tbody>\n</table>"
     },
     "execution_count": 29,
     "metadata": {},
     "output_type": "execute_result"
    }
   ],
   "source": [
    "%sql select distinct BOOSTER_VERSION from SPACEXTBL where PAYLOAD_MASS__KG_ = (select MAX(PAYLOAD_MASS__KG_) FROM SPACEXTBL)"
   ],
   "execution_count": 29
  },
  {
   "cell_type": "markdown",
   "id": "ecc07167-f7cc-4b5b-98f3-259496647f0e",
   "metadata": {},
   "outputs": [],
   "source": [
    "### Task 9\n",
    "\n",
    "\n",
    "##### List the records which will display the month names, failure landing_outcomes in drone ship ,booster versions, launch_site for the months in year 2015.\n",
    "\n",
    "**Note: SQLLite does not support monthnames. So you need to use  substr(Date, 4, 2) as month to get the months and substr(Date,7,4)='2015' for year.**\n"
   ]
  },
  {
   "cell_type": "code",
   "id": "573385b7-ec13-4c88-807b-e1b62dc0a9b0",
   "metadata": {
    "ExecuteTime": {
     "end_time": "2023-06-24T06:18:25.236218900Z",
     "start_time": "2023-06-24T06:18:25.165455300Z"
    }
   },
   "outputs": [
    {
     "name": "stdout",
     "output_type": "stream",
     "text": [
      " * sqlite:///my_data1.db\n",
      "Done.\n"
     ]
    },
    {
     "data": {
      "text/plain": "[('01/10/2015', 'F9 v1.1 B1012', 'CCAFS LC-40', 'Failure (drone ship)'),\n ('14/04/2015', 'F9 v1.1 B1015', 'CCAFS LC-40', 'Failure (drone ship)')]",
      "text/html": "<table>\n    <thead>\n        <tr>\n            <th>Date</th>\n            <th>Booster_Version</th>\n            <th>Launch_Site</th>\n            <th>Landing_Outcome</th>\n        </tr>\n    </thead>\n    <tbody>\n        <tr>\n            <td>01/10/2015</td>\n            <td>F9 v1.1 B1012</td>\n            <td>CCAFS LC-40</td>\n            <td>Failure (drone ship)</td>\n        </tr>\n        <tr>\n            <td>14/04/2015</td>\n            <td>F9 v1.1 B1015</td>\n            <td>CCAFS LC-40</td>\n            <td>Failure (drone ship)</td>\n        </tr>\n    </tbody>\n</table>"
     },
     "execution_count": 59,
     "metadata": {},
     "output_type": "execute_result"
    }
   ],
   "source": [
    "%sql SELECT Date , Booster_Version, Launch_Site, Landing_Outcome FROM SPACEXTBL WHERE Landing_Outcome LIKE 'Failure (drone ship)'AND Date LIKE '%2015%'"
   ],
   "execution_count": 59
  },
  {
   "cell_type": "markdown",
   "id": "d484dd4b-ed7c-4322-a951-1c1b01a93974",
   "metadata": {},
   "outputs": [],
   "source": [
    "### Task 10\n",
    "\n",
    "\n",
    "\n",
    "\n",
    "##### Rank the count of landing outcomes (such as Failure (drone ship) or Success (ground pad)) between the date 2010-06-04 and 2017-03-20, in descending order.\n"
   ]
  },
  {
   "cell_type": "code",
   "id": "8499d104-9c2f-4d54-9824-0fd1bbdcacca",
   "metadata": {
    "ExecuteTime": {
     "end_time": "2023-06-24T06:45:03.565458100Z",
     "start_time": "2023-06-24T06:45:02.472840800Z"
    }
   },
   "outputs": [
    {
     "name": "stdout",
     "output_type": "stream",
     "text": [
      "          LANDING_OUTCOME  COUNT\n",
      "3              No attempt     10\n",
      "1    Failure (drone ship)      5\n",
      "5    Success (drone ship)      5\n",
      "6    Success (ground pad)      5\n",
      "0      Controlled (ocean)      3\n",
      "7    Uncontrolled (ocean)      2\n",
      "2     Failure (parachute)      1\n",
      "4  Precluded (drone ship)      1\n"
     ]
    }
   ],
   "source": [
    "import sqlite3\n",
    "from datetime import datetime\n",
    "import pandas as pd\n",
    "\n",
    "\n",
    "conn = sqlite3.connect('my_data1.db')\n",
    "\n",
    "\n",
    "cursor = conn.cursor()\n",
    "\n",
    "\n",
    "cursor.execute(\"SELECT LANDING_OUTCOME, BOOSTER_VERSION, LAUNCH_SITE, DATE FROM SPACEXTBL\")\n",
    "\n",
    "\n",
    "rows = cursor.fetchall()\n",
    "\n",
    "\n",
    "start_date = datetime.strptime('04/06/2010', '%d/%m/%Y')\n",
    "end_date = datetime.strptime('20/03/2017', '%d/%m/%Y')\n",
    "\n",
    "\n",
    "filtered_rows = []\n",
    "\n",
    "\n",
    "for row in rows:\n",
    "\n",
    "    if row[3] is not None:\n",
    "        date = datetime.strptime(row[3], '%d/%m/%Y')\n",
    "        if start_date <= date <= end_date:\n",
    "            filtered_rows.append(row)\n",
    "\n",
    "\n",
    "df = pd.DataFrame(filtered_rows, columns=[\"LANDING_OUTCOME\", \"BOOSTER_VERSION\", \"LAUNCH_SITE\", \"DATE\"])\n",
    "\n",
    "\n",
    "grouped_df = df.groupby('LANDING_OUTCOME').size().reset_index(name='COUNT').sort_values('COUNT', ascending=False)\n",
    "\n",
    "\n",
    "print(grouped_df)\n",
    "\n",
    "\n",
    "conn.close()\n"
   ],
   "execution_count": 1
  },
  {
   "cell_type": "markdown",
   "id": "441be687-7bdc-43a2-87ca-29bf1aeafe87",
   "metadata": {},
   "outputs": [],
   "source": [
    "### Reference Links\n",
    "\n",
    "* <a href =\"https://cf-courses-data.s3.us.cloud-object-storage.appdomain.cloud/IBMDeveloperSkillsNetwork-DB0201EN-SkillsNetwork/labs/Labs_Coursera_V5/labs/Lab%20-%20String%20Patterns%20-%20Sorting%20-%20Grouping/instructional-labs.md.html?origin=www.coursera.org\">Hands-on Lab : String Patterns, Sorting and Grouping</a>  \n",
    "\n",
    "*  <a  href=\"https://cf-courses-data.s3.us.cloud-object-storage.appdomain.cloud/IBMDeveloperSkillsNetwork-DB0201EN-SkillsNetwork/labs/Labs_Coursera_V5/labs/Lab%20-%20Built-in%20functions%20/Hands-on_Lab__Built-in_Functions.md.html?origin=www.coursera.org\">Hands-on Lab: Built-in functions</a>\n",
    "\n",
    "*  <a  href=\"https://cf-courses-data.s3.us.cloud-object-storage.appdomain.cloud/IBMDeveloperSkillsNetwork-DB0201EN-SkillsNetwork/labs/Labs_Coursera_V5/labs/Lab%20-%20Sub-queries%20and%20Nested%20SELECTs%20/instructional-labs.md.html?origin=www.coursera.org\">Hands-on Lab : Sub-queries and Nested SELECT Statements</a>\n",
    "\n",
    "*   <a href=\"https://cf-courses-data.s3.us.cloud-object-storage.appdomain.cloud/IBMDeveloperSkillsNetwork-DB0201EN-SkillsNetwork/labs/Module%205/DB0201EN-Week3-1-3-SQLmagic.ipynb\">Hands-on Tutorial: Accessing Databases with SQL magic</a>\n",
    "\n",
    "*  <a href= \"https://cf-courses-data.s3.us.cloud-object-storage.appdomain.cloud/IBMDeveloperSkillsNetwork-DB0201EN-SkillsNetwork/labs/Module%205/DB0201EN-Week3-1-4-Analyzing.ipynb\">Hands-on Lab: Analyzing a real World Data Set</a>\n",
    "\n",
    "\n"
   ]
  },
  {
   "cell_type": "markdown",
   "id": "ce579551-45c4-422d-9d15-af2c2d7a41ba",
   "metadata": {},
   "outputs": [],
   "source": [
    "## Author(s)\n",
    "\n",
    "<h4> Lakshmi Holla </h4>\n"
   ]
  },
  {
   "cell_type": "markdown",
   "id": "1613d9fc-305d-49cd-af46-cbf82b70fcef",
   "metadata": {},
   "outputs": [],
   "source": [
    "## Other Contributors\n",
    "\n",
    "<h4> Rav Ahuja </h4>\n"
   ]
  },
  {
   "cell_type": "markdown",
   "id": "122de547-5c4e-4931-9dbe-8d112b669742",
   "metadata": {},
   "outputs": [],
   "source": [
    "## Change log\n",
    "| Date | Version | Changed by | Change Description |\n",
    "|------|--------|--------|---------|\n",
    "| 2021-07-09 | 0.2 |Lakshmi Holla | Changes made in magic sql|\n",
    "| 2021-05-20 | 0.1 |Lakshmi Holla | Created Initial Version |\n"
   ]
  },
  {
   "cell_type": "markdown",
   "id": "8b2cc68b-aaec-410a-a454-18e38bd5b9b4",
   "metadata": {},
   "outputs": [],
   "source": [
    "## <h3 align=\"center\"> © IBM Corporation 2021. All rights reserved. <h3/>\n"
   ]
  }
 ],
 "metadata": {
  "kernelspec": {
   "name": "python3",
   "language": "python",
   "display_name": "Python 3 (ipykernel)"
  },
  "language_info": {
   "name": ""
  }
 },
 "nbformat": 4,
 "nbformat_minor": 4
}
